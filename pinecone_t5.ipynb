{
 "cells": [
  {
   "cell_type": "code",
   "execution_count": 1,
   "metadata": {},
   "outputs": [
    {
     "name": "stdout",
     "output_type": "stream",
     "text": [
      "Requirement already satisfied: langchain-community in /home/karimzade/anaconda3/envs/torch/lib/python3.12/site-packages (0.2.12)\n",
      "Requirement already satisfied: pinecone-client in /home/karimzade/anaconda3/envs/torch/lib/python3.12/site-packages (5.0.1)\n",
      "Requirement already satisfied: langchain-huggingface in /home/karimzade/anaconda3/envs/torch/lib/python3.12/site-packages (0.0.3)\n",
      "Requirement already satisfied: pinecone-text in /home/karimzade/anaconda3/envs/torch/lib/python3.12/site-packages (0.9.0)\n",
      "Requirement already satisfied: python-dotenv in /home/karimzade/anaconda3/envs/torch/lib/python3.12/site-packages (1.0.1)\n",
      "Requirement already satisfied: pinecone-notebooks in /home/karimzade/anaconda3/envs/torch/lib/python3.12/site-packages (0.1.1)\n",
      "Requirement already satisfied: PyYAML>=5.3 in /home/karimzade/anaconda3/envs/torch/lib/python3.12/site-packages (from langchain-community) (6.0.1)\n",
      "Requirement already satisfied: SQLAlchemy<3,>=1.4 in /home/karimzade/anaconda3/envs/torch/lib/python3.12/site-packages (from langchain-community) (2.0.32)\n",
      "Requirement already satisfied: aiohttp<4.0.0,>=3.8.3 in /home/karimzade/anaconda3/envs/torch/lib/python3.12/site-packages (from langchain-community) (3.10.3)\n",
      "Requirement already satisfied: dataclasses-json<0.7,>=0.5.7 in /home/karimzade/anaconda3/envs/torch/lib/python3.12/site-packages (from langchain-community) (0.6.7)\n",
      "Requirement already satisfied: langchain<0.3.0,>=0.2.13 in /home/karimzade/anaconda3/envs/torch/lib/python3.12/site-packages (from langchain-community) (0.2.14)\n",
      "Requirement already satisfied: langchain-core<0.3.0,>=0.2.30 in /home/karimzade/anaconda3/envs/torch/lib/python3.12/site-packages (from langchain-community) (0.2.33)\n",
      "Requirement already satisfied: langsmith<0.2.0,>=0.1.0 in /home/karimzade/anaconda3/envs/torch/lib/python3.12/site-packages (from langchain-community) (0.1.99)\n",
      "Requirement already satisfied: numpy<2.0.0,>=1.26.0 in /home/karimzade/anaconda3/envs/torch/lib/python3.12/site-packages (from langchain-community) (1.26.4)\n",
      "Requirement already satisfied: requests<3,>=2 in /home/karimzade/anaconda3/envs/torch/lib/python3.12/site-packages (from langchain-community) (2.32.2)\n",
      "Requirement already satisfied: tenacity!=8.4.0,<9.0.0,>=8.1.0 in /home/karimzade/anaconda3/envs/torch/lib/python3.12/site-packages (from langchain-community) (8.5.0)\n",
      "Requirement already satisfied: certifi>=2019.11.17 in /home/karimzade/anaconda3/envs/torch/lib/python3.12/site-packages (from pinecone-client) (2024.7.4)\n",
      "Requirement already satisfied: pinecone-plugin-inference<2.0.0,>=1.0.3 in /home/karimzade/anaconda3/envs/torch/lib/python3.12/site-packages (from pinecone-client) (1.0.3)\n",
      "Requirement already satisfied: pinecone-plugin-interface<0.0.8,>=0.0.7 in /home/karimzade/anaconda3/envs/torch/lib/python3.12/site-packages (from pinecone-client) (0.0.7)\n",
      "Requirement already satisfied: tqdm>=4.64.1 in /home/karimzade/anaconda3/envs/torch/lib/python3.12/site-packages (from pinecone-client) (4.66.4)\n",
      "Requirement already satisfied: typing-extensions>=3.7.4 in /home/karimzade/anaconda3/envs/torch/lib/python3.12/site-packages (from pinecone-client) (4.11.0)\n",
      "Requirement already satisfied: urllib3>=1.26.5 in /home/karimzade/anaconda3/envs/torch/lib/python3.12/site-packages (from pinecone-client) (2.2.2)\n",
      "Requirement already satisfied: huggingface-hub>=0.23.0 in /home/karimzade/anaconda3/envs/torch/lib/python3.12/site-packages (from langchain-huggingface) (0.24.5)\n",
      "Requirement already satisfied: sentence-transformers>=2.6.0 in /home/karimzade/anaconda3/envs/torch/lib/python3.12/site-packages (from langchain-huggingface) (3.0.1)\n",
      "Requirement already satisfied: tokenizers>=0.19.1 in /home/karimzade/anaconda3/envs/torch/lib/python3.12/site-packages (from langchain-huggingface) (0.19.1)\n",
      "Requirement already satisfied: transformers>=4.39.0 in /home/karimzade/anaconda3/envs/torch/lib/python3.12/site-packages (from langchain-huggingface) (4.44.0)\n",
      "Requirement already satisfied: mmh3<5.0.0,>=4.1.0 in /home/karimzade/anaconda3/envs/torch/lib/python3.12/site-packages (from pinecone-text) (4.1.0)\n",
      "Requirement already satisfied: nltk<4.0.0,>=3.6.5 in /home/karimzade/anaconda3/envs/torch/lib/python3.12/site-packages (from pinecone-text) (3.8.1)\n",
      "Requirement already satisfied: types-requests<3.0.0,>=2.25.0 in /home/karimzade/anaconda3/envs/torch/lib/python3.12/site-packages (from pinecone-text) (2.32.0.20240712)\n",
      "Requirement already satisfied: wget<4.0,>=3.2 in /home/karimzade/anaconda3/envs/torch/lib/python3.12/site-packages (from pinecone-text) (3.2)\n",
      "Requirement already satisfied: aiohappyeyeballs>=2.3.0 in /home/karimzade/anaconda3/envs/torch/lib/python3.12/site-packages (from aiohttp<4.0.0,>=3.8.3->langchain-community) (2.3.7)\n",
      "Requirement already satisfied: aiosignal>=1.1.2 in /home/karimzade/anaconda3/envs/torch/lib/python3.12/site-packages (from aiohttp<4.0.0,>=3.8.3->langchain-community) (1.3.1)\n",
      "Requirement already satisfied: attrs>=17.3.0 in /home/karimzade/anaconda3/envs/torch/lib/python3.12/site-packages (from aiohttp<4.0.0,>=3.8.3->langchain-community) (23.2.0)\n",
      "Requirement already satisfied: frozenlist>=1.1.1 in /home/karimzade/anaconda3/envs/torch/lib/python3.12/site-packages (from aiohttp<4.0.0,>=3.8.3->langchain-community) (1.4.1)\n",
      "Requirement already satisfied: multidict<7.0,>=4.5 in /home/karimzade/anaconda3/envs/torch/lib/python3.12/site-packages (from aiohttp<4.0.0,>=3.8.3->langchain-community) (6.0.5)\n",
      "Requirement already satisfied: yarl<2.0,>=1.0 in /home/karimzade/anaconda3/envs/torch/lib/python3.12/site-packages (from aiohttp<4.0.0,>=3.8.3->langchain-community) (1.9.4)\n",
      "Requirement already satisfied: marshmallow<4.0.0,>=3.18.0 in /home/karimzade/anaconda3/envs/torch/lib/python3.12/site-packages (from dataclasses-json<0.7,>=0.5.7->langchain-community) (3.21.3)\n",
      "Requirement already satisfied: typing-inspect<1,>=0.4.0 in /home/karimzade/anaconda3/envs/torch/lib/python3.12/site-packages (from dataclasses-json<0.7,>=0.5.7->langchain-community) (0.9.0)\n",
      "Requirement already satisfied: filelock in /home/karimzade/anaconda3/envs/torch/lib/python3.12/site-packages (from huggingface-hub>=0.23.0->langchain-huggingface) (3.13.1)\n",
      "Requirement already satisfied: fsspec>=2023.5.0 in /home/karimzade/anaconda3/envs/torch/lib/python3.12/site-packages (from huggingface-hub>=0.23.0->langchain-huggingface) (2024.6.1)\n",
      "Requirement already satisfied: packaging>=20.9 in /home/karimzade/anaconda3/envs/torch/lib/python3.12/site-packages (from huggingface-hub>=0.23.0->langchain-huggingface) (24.1)\n",
      "Requirement already satisfied: langchain-text-splitters<0.3.0,>=0.2.0 in /home/karimzade/anaconda3/envs/torch/lib/python3.12/site-packages (from langchain<0.3.0,>=0.2.13->langchain-community) (0.2.2)\n",
      "Requirement already satisfied: pydantic<3,>=1 in /home/karimzade/anaconda3/envs/torch/lib/python3.12/site-packages (from langchain<0.3.0,>=0.2.13->langchain-community) (2.8.0)\n",
      "Requirement already satisfied: jsonpatch<2.0,>=1.33 in /home/karimzade/anaconda3/envs/torch/lib/python3.12/site-packages (from langchain-core<0.3.0,>=0.2.30->langchain-community) (1.33)\n",
      "Requirement already satisfied: orjson<4.0.0,>=3.9.14 in /home/karimzade/anaconda3/envs/torch/lib/python3.12/site-packages (from langsmith<0.2.0,>=0.1.0->langchain-community) (3.10.5)\n",
      "Requirement already satisfied: click in /home/karimzade/anaconda3/envs/torch/lib/python3.12/site-packages (from nltk<4.0.0,>=3.6.5->pinecone-text) (8.1.7)\n",
      "Requirement already satisfied: joblib in /home/karimzade/anaconda3/envs/torch/lib/python3.12/site-packages (from nltk<4.0.0,>=3.6.5->pinecone-text) (1.4.2)\n",
      "Requirement already satisfied: regex>=2021.8.3 in /home/karimzade/anaconda3/envs/torch/lib/python3.12/site-packages (from nltk<4.0.0,>=3.6.5->pinecone-text) (2024.7.24)\n",
      "Requirement already satisfied: charset-normalizer<4,>=2 in /home/karimzade/anaconda3/envs/torch/lib/python3.12/site-packages (from requests<3,>=2->langchain-community) (2.0.4)\n",
      "Requirement already satisfied: idna<4,>=2.5 in /home/karimzade/anaconda3/envs/torch/lib/python3.12/site-packages (from requests<3,>=2->langchain-community) (3.7)\n",
      "Requirement already satisfied: torch>=1.11.0 in /home/karimzade/anaconda3/envs/torch/lib/python3.12/site-packages (from sentence-transformers>=2.6.0->langchain-huggingface) (2.3.1)\n",
      "Requirement already satisfied: scikit-learn in /home/karimzade/anaconda3/envs/torch/lib/python3.12/site-packages (from sentence-transformers>=2.6.0->langchain-huggingface) (1.5.1)\n",
      "Requirement already satisfied: scipy in /home/karimzade/anaconda3/envs/torch/lib/python3.12/site-packages (from sentence-transformers>=2.6.0->langchain-huggingface) (1.13.1)\n",
      "Requirement already satisfied: Pillow in /home/karimzade/anaconda3/envs/torch/lib/python3.12/site-packages (from sentence-transformers>=2.6.0->langchain-huggingface) (10.3.0)\n",
      "Requirement already satisfied: greenlet!=0.4.17 in /home/karimzade/anaconda3/envs/torch/lib/python3.12/site-packages (from SQLAlchemy<3,>=1.4->langchain-community) (3.0.3)\n",
      "Requirement already satisfied: safetensors>=0.4.1 in /home/karimzade/anaconda3/envs/torch/lib/python3.12/site-packages (from transformers>=4.39.0->langchain-huggingface) (0.4.3)\n",
      "Requirement already satisfied: jsonpointer>=1.9 in /home/karimzade/anaconda3/envs/torch/lib/python3.12/site-packages (from jsonpatch<2.0,>=1.33->langchain-core<0.3.0,>=0.2.30->langchain-community) (3.0.0)\n",
      "Requirement already satisfied: annotated-types>=0.4.0 in /home/karimzade/anaconda3/envs/torch/lib/python3.12/site-packages (from pydantic<3,>=1->langchain<0.3.0,>=0.2.13->langchain-community) (0.7.0)\n",
      "Requirement already satisfied: pydantic-core==2.20.0 in /home/karimzade/anaconda3/envs/torch/lib/python3.12/site-packages (from pydantic<3,>=1->langchain<0.3.0,>=0.2.13->langchain-community) (2.20.0)\n",
      "Requirement already satisfied: sympy in /home/karimzade/anaconda3/envs/torch/lib/python3.12/site-packages (from torch>=1.11.0->sentence-transformers>=2.6.0->langchain-huggingface) (1.12)\n",
      "Requirement already satisfied: networkx in /home/karimzade/anaconda3/envs/torch/lib/python3.12/site-packages (from torch>=1.11.0->sentence-transformers>=2.6.0->langchain-huggingface) (3.2.1)\n",
      "Requirement already satisfied: jinja2 in /home/karimzade/anaconda3/envs/torch/lib/python3.12/site-packages (from torch>=1.11.0->sentence-transformers>=2.6.0->langchain-huggingface) (3.1.4)\n",
      "Requirement already satisfied: mypy-extensions>=0.3.0 in /home/karimzade/anaconda3/envs/torch/lib/python3.12/site-packages (from typing-inspect<1,>=0.4.0->dataclasses-json<0.7,>=0.5.7->langchain-community) (1.0.0)\n",
      "Requirement already satisfied: threadpoolctl>=3.1.0 in /home/karimzade/anaconda3/envs/torch/lib/python3.12/site-packages (from scikit-learn->sentence-transformers>=2.6.0->langchain-huggingface) (3.5.0)\n",
      "Requirement already satisfied: MarkupSafe>=2.0 in /home/karimzade/anaconda3/envs/torch/lib/python3.12/site-packages (from jinja2->torch>=1.11.0->sentence-transformers>=2.6.0->langchain-huggingface) (2.1.3)\n",
      "Requirement already satisfied: mpmath>=0.19 in /home/karimzade/anaconda3/envs/torch/lib/python3.12/site-packages (from sympy->torch>=1.11.0->sentence-transformers>=2.6.0->langchain-huggingface) (1.3.0)\n"
     ]
    }
   ],
   "source": [
    "!pip install langchain-community pinecone-client langchain-huggingface pinecone-text python-dotenv pinecone-client pinecone-text pinecone-notebooks"
   ]
  },
  {
   "cell_type": "code",
   "execution_count": 2,
   "metadata": {},
   "outputs": [
    {
     "name": "stderr",
     "output_type": "stream",
     "text": [
      "/home/karimzade/anaconda3/envs/torch/lib/python3.12/site-packages/pinecone/data/index.py:1: TqdmWarning: IProgress not found. Please update jupyter and ipywidgets. See https://ipywidgets.readthedocs.io/en/stable/user_install.html\n",
      "  from tqdm.autonotebook import tqdm\n"
     ]
    }
   ],
   "source": [
    "from langchain_community.retrievers import PineconeHybridSearchRetriever\n",
    "import os\n",
    "from pinecone import Pinecone, ServerlessSpec\n",
    "from langchain_huggingface import HuggingFaceEmbeddings\n",
    "from langchain.embeddings import HuggingFaceEmbeddings\n",
    "from pinecone_text.sparse import BM25Encoder\n",
    "from dotenv import load_dotenv\n",
    "from transformers import T5Tokenizer, T5ForConditionalGeneration\n",
    "import pandas as pd\n",
    "from dotenv import load_dotenv\n",
    "import os\n",
    "import re\n",
    "\n",
    "load_dotenv()\n",
    "\n",
    "\n",
    "api_key = os.getenv(\"PINECONE_API_KEY\")\n",
    "environment = os.getenv(\"ENVIRONMENT\")\n",
    "index_name = os.getenv(\"INDEX_NAME\")\n",
    "os.environ[\"HF_TOKEN\"] = os.getenv(\"HF_TOKEN\")\n",
    "log_file_path = \"secrcomp.log\"\n",
    "\n",
    "\n",
    "def preprocess_logs(file_path):\n",
    "    with open(file_path, \"r\") as file:\n",
    "        log_lines = file.readlines()\n",
    "\n",
    "    log_pattern = r'(\\d+\\.\\d+\\.\\d+\\.\\d+) - - \\[(.*?)\\] \"(.*?) (.*?) HTTP.*\" (\\d{3}) (\\d+) \"(.*?)\" \"(.*?)\" (\\d+)'\n",
    "\n",
    "    parsed_logs = []\n",
    "    for line in log_lines:\n",
    "        match = re.match(log_pattern, line)\n",
    "        if match:\n",
    "            parsed_logs.append(match.groups())\n",
    "\n",
    "    df = pd.DataFrame(parsed_logs, columns=[\n",
    "        \"ip\", \"timestamp\", \"method\", \"endpoint\", \n",
    "        \"status_code\", \"response_size\", \"referer\", \n",
    "        \"user_agent\", \"response_time\"\n",
    "    ]).drop(columns=['referer'])\n",
    "\n",
    "    # Cümleleri oluşturma\n",
    "    sentences = df.apply(\n",
    "        lambda row: f\"Request from IP {row['ip']} on {row['timestamp']} using {row['method']} method to endpoint {row['endpoint']} resulted in status code {row['status_code']} with a response size of {row['response_size']} bytes, response time of {row['response_time']} ms, and user agent '{row['user_agent']}'.\",\n",
    "        axis=1\n",
    "    ).tolist()\n",
    "\n",
    "    return sentences\n",
    "\n",
    "sentences = preprocess_logs(log_file_path)\n",
    "# sentences = \"\\n\".join(sentences)"
   ]
  },
  {
   "cell_type": "code",
   "execution_count": 3,
   "metadata": {},
   "outputs": [
    {
     "name": "stdout",
     "output_type": "stream",
     "text": [
      "Yeni index: secrcomp oluşturuldu.\n"
     ]
    }
   ],
   "source": [
    "pc = Pinecone(api_key=api_key)\n",
    "\n",
    "if index_name not in pc.list_indexes().names():\n",
    "    pc.create_index(\n",
    "        name=index_name,\n",
    "        dimension=384,\n",
    "        metric=\"dotproduct\",\n",
    "        spec=ServerlessSpec(cloud=\"aws\", region=\"us-east-1\"),\n",
    "    )\n",
    "    print(f\"Yeni index: {index_name} oluşturuldu.\")\n",
    "\n",
    "index = pc.Index(index_name)"
   ]
  },
  {
   "cell_type": "code",
   "execution_count": 4,
   "metadata": {},
   "outputs": [
    {
     "name": "stderr",
     "output_type": "stream",
     "text": [
      "/home/karimzade/anaconda3/envs/torch/lib/python3.12/site-packages/langchain_core/_api/deprecation.py:141: LangChainDeprecationWarning: The class `HuggingFaceEmbeddings` was deprecated in LangChain 0.2.2 and will be removed in 0.3.0. An updated version of the class exists in the langchain-huggingface package and should be used instead. To use it run `pip install -U langchain-huggingface` and import as `from langchain_huggingface import HuggingFaceEmbeddings`.\n",
      "  warn_deprecated(\n",
      "/home/karimzade/anaconda3/envs/torch/lib/python3.12/site-packages/transformers/tokenization_utils_base.py:1601: FutureWarning: `clean_up_tokenization_spaces` was not set. It will be set to `True` by default. This behavior will be depracted in transformers v4.45, and will be then set to `False` by default. For more details check this issue: https://github.com/huggingface/transformers/issues/31884\n",
      "  warnings.warn(\n",
      "100%|██████████| 50000/50000 [00:15<00:00, 3160.34it/s]\n"
     ]
    }
   ],
   "source": [
    "# embeddings = HuggingFaceEmbeddings(model_name=\"all-MiniLM-L6-v2\")\n",
    "embeddings = HuggingFaceEmbeddings(model_name=\"sentence-transformers/all-MiniLM-L12-v2\")\n",
    "\n",
    "# BM25 Encoder oluşturma ve eğitmek\n",
    "bm25_encoder = BM25Encoder().default()\n",
    "bm25_encoder.fit(sentences)\n",
    "bm25_encoder.dump(\"bm25_values.json\")\n",
    "bm25_encoder = BM25Encoder().load(\"bm25_values.json\")"
   ]
  },
  {
   "cell_type": "code",
   "execution_count": 5,
   "metadata": {},
   "outputs": [
    {
     "name": "stderr",
     "output_type": "stream",
     "text": [
      "100%|██████████| 1563/1563 [12:18<00:00,  2.12it/s]\n"
     ]
    }
   ],
   "source": [
    "\n",
    "# Hibrit arama retriever'ı\n",
    "retriever = PineconeHybridSearchRetriever(\n",
    "    embeddings=embeddings, sparse_encoder=bm25_encoder, index=index\n",
    ")\n",
    "\n",
    "# Log verilerini eklemek\n",
    "retriever.add_texts(sentences)"
   ]
  },
  {
   "cell_type": "code",
   "execution_count": 6,
   "metadata": {},
   "outputs": [
    {
     "name": "stderr",
     "output_type": "stream",
     "text": [
      "You are using the default legacy behaviour of the <class 'transformers.models.t5.tokenization_t5.T5Tokenizer'>. This is expected, and simply means that the `legacy` (previous) behavior will be used so nothing changes for you. If you want to use the new behaviour, set `legacy=False`. This should only be set if you understand what it means, and thoroughly read the reason why this was added as explained in https://github.com/huggingface/transformers/pull/24565\n",
      "/home/karimzade/anaconda3/envs/torch/lib/python3.12/site-packages/transformers/generation/configuration_utils.py:615: UserWarning: `num_beams` is set to 1. However, `early_stopping` is set to `True` -- this flag is only used in beam-based generation modes. You should set `num_beams>1` or unset `early_stopping`.\n",
      "  warnings.warn(\n"
     ]
    },
    {
     "name": "stdout",
     "output_type": "stream",
     "text": [
      "Text: Request from IP 203.119.43.90 on 15/Jun/2023:12:51:57 +0300 using POST method to endpoint /usr/admin resulted in status code 303 with a response size of 4990 bytes, response time of 4475 ms, and user agent 'Mozilla/5.0 (Macintosh; Intel Mac OS X 10_15_7) AppleWebKit/537.36 (KHTML, like Gecko) Chrome/88.0.4324.192 Safari/537.36'.\n",
      "Soru: At what time did IP address 203.119.43.90 send a POST request to endpoint /usr/admin ?\n",
      "Cevap: 15/Jun/2023:12:51:57 +0300\n",
      "\n",
      "Text: Request from IP 132.121.190.166 on 03/Jan/2023:11:06:24 +0300 using POST method to endpoint /usr/admin resulted in status code 303 with a response size of 5019 bytes, response time of 1946 ms, and user agent 'Mozilla/5.0 (Macintosh; Intel Mac OS X 10_15_7) AppleWebKit/537.36 (KHTML, like Gecko) Chrome/88.0.4324.192 Safari/537.36'.\n",
      "Soru: At what time did IP address 203.119.43.90 send a POST request to endpoint /usr/admin ?\n",
      "Cevap: 03/Jan/2023:11:06:24 +0300\n",
      "\n",
      "Text: Request from IP 119.108.112.218 on 17/Aug/2023:08:18:12 +0300 using POST method to endpoint /usr/admin resulted in status code 303 with a response size of 4949 bytes, response time of 3180 ms, and user agent 'Mozilla/5.0 (Macintosh; Intel Mac OS X 10_15_7) AppleWebKit/537.36 (KHTML, like Gecko) Chrome/88.0.4324.192 Safari/537.36'.\n",
      "Soru: At what time did IP address 203.119.43.90 send a POST request to endpoint /usr/admin ?\n",
      "Cevap: 17/Aug/2023:08:18:12 +0300\n",
      "\n",
      "Text: Request from IP 117.202.212.111 on 08/Oct/2023:03:46:31 +0300 using POST method to endpoint /usr/admin resulted in status code 303 with a response size of 4972 bytes, response time of 3627 ms, and user agent 'Mozilla/5.0 (Macintosh; Intel Mac OS X 10_15_7) AppleWebKit/537.36 (KHTML, like Gecko) Chrome/88.0.4324.192 Safari/537.36'.\n",
      "Soru: At what time did IP address 203.119.43.90 send a POST request to endpoint /usr/admin ?\n",
      "Cevap: 08/Oct/2023:03:46:31 +0300\n",
      "\n"
     ]
    }
   ],
   "source": [
    "\n",
    "def generate_answer(text):\n",
    "    # Soru ve metni birleştirme\n",
    "    input_text = f\"Question: {query} Context: {text}\"\n",
    "    input_ids = tokenizer.encode(input_text, return_tensors=\"pt\")\n",
    "\n",
    "    # Yanıt oluşturma\n",
    "    output_ids = model.generate(input_ids, max_length=150, num_beams=1, early_stopping=True)\n",
    "    answer = tokenizer.decode(output_ids[0], skip_special_tokens=True)\n",
    "    return answer\n",
    "\n",
    "# T5 modeli yükleme\n",
    "tokenizer = T5Tokenizer.from_pretrained(\"t5-base\")\n",
    "model = T5ForConditionalGeneration.from_pretrained(\"t5-base\")\n",
    "\n",
    "# query = \" How many IP addresses were sent POST requests to the endpoint ‘/usr/admin’?\"\n",
    "query = \"At what time did IP address 203.119.43.90 send a POST request to endpoint /usr/admin ?\"\n",
    "\n",
    "retrieved_texts = retriever.invoke(query)\n",
    "\n",
    "for doc in retrieved_texts:\n",
    "    text = doc.page_content\n",
    "    answer = generate_answer(text)\n",
    "    print(f\"Text: {text}\")\n",
    "    print(f\"Soru: {query}\\nCevap: {answer}\\n\")\n"
   ]
  }
 ],
 "metadata": {
  "kernelspec": {
   "display_name": "torch",
   "language": "python",
   "name": "python3"
  },
  "language_info": {
   "codemirror_mode": {
    "name": "ipython",
    "version": 3
   },
   "file_extension": ".py",
   "mimetype": "text/x-python",
   "name": "python",
   "nbconvert_exporter": "python",
   "pygments_lexer": "ipython3",
   "version": "3.12.2"
  }
 },
 "nbformat": 4,
 "nbformat_minor": 2
}
